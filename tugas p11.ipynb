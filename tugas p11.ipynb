{
  "nbformat": 4,
  "nbformat_minor": 0,
  "metadata": {
    "colab": {
      "name": "Untitled1.ipynb",
      "provenance": [],
      "collapsed_sections": [],
      "authorship_tag": "ABX9TyMA9lnEkKR0rnv2MO/B6VYH",
      "include_colab_link": true
    },
    "kernelspec": {
      "display_name": "Python 3",
      "name": "python3"
    }
  },
  "cells": [
    {
      "cell_type": "markdown",
      "metadata": {
        "id": "view-in-github",
        "colab_type": "text"
      },
      "source": [
        "<a href=\"https://colab.research.google.com/github/ArchieFauzan/Pemrograman-python-semester-3/blob/main/tugas%20p11.ipynb\" target=\"_parent\"><img src=\"https://colab.research.google.com/assets/colab-badge.svg\" alt=\"Open In Colab\"/></a>"
      ]
    },
    {
      "cell_type": "code",
      "metadata": {
        "colab": {
          "base_uri": "https://localhost:8080/"
        },
        "id": "2avYkuJt7RET",
        "outputId": "3a81d728-530d-4fe4-c23a-4fc920e313e6"
      },
      "source": [
        "from google.colab import drive\n",
        "drive.mount('/content/drive')"
      ],
      "execution_count": null,
      "outputs": [
        {
          "output_type": "stream",
          "text": [
            "Drive already mounted at /content/drive; to attempt to forcibly remount, call drive.mount(\"/content/drive\", force_remount=True).\n"
          ],
          "name": "stdout"
        }
      ]
    },
    {
      "cell_type": "code",
      "metadata": {
        "colab": {
          "base_uri": "https://localhost:8080/"
        },
        "id": "eEcp7TfE7Wr-",
        "outputId": "920d94c6-b7e2-44ed-df01-ee01c5b8493a"
      },
      "source": [
        "cd /content/drive/MyDrive/TugasPertemuan 11"
      ],
      "execution_count": null,
      "outputs": [
        {
          "output_type": "stream",
          "text": [
            "/content/drive/MyDrive/TugasPertemuan 11\n"
          ],
          "name": "stdout"
        }
      ]
    },
    {
      "cell_type": "code",
      "metadata": {
        "colab": {
          "base_uri": "https://localhost:8080/"
        },
        "id": "EnJ4j2as7k2Z",
        "outputId": "1a4972e7-9fc0-40bf-930c-8f642532d765"
      },
      "source": [
        "ls"
      ],
      "execution_count": null,
      "outputs": [
        {
          "output_type": "stream",
          "text": [
            "\u001b[0m\u001b[01;34mData\u001b[0m/\n"
          ],
          "name": "stdout"
        }
      ]
    },
    {
      "cell_type": "code",
      "metadata": {
        "id": "9718O__87mfA"
      },
      "source": [
        "from keras.models import Sequential\n",
        "from keras.layers.convolutional import Conv2D\n",
        "from keras.layers.convolutional import MaxPooling2D\n",
        "from keras.layers.core import Activation\n",
        "from keras.layers.core import Flatten\n",
        "from keras.layers.core import Dense\n",
        "from keras.optimizers import Adam\n",
        "from sklearn.preprocessing import LabelBinarizer\n",
        "from sklearn.model_selection import train_test_split\n",
        "from sklearn.metrics import classification_report\n",
        "from PIL import Image\n",
        "from imutils import paths\n",
        "import numpy as np\n",
        "import os"
      ],
      "execution_count": null,
      "outputs": []
    },
    {
      "cell_type": "code",
      "metadata": {
        "colab": {
          "base_uri": "https://localhost:8080/"
        },
        "id": "FnRoeLdS_EmL",
        "outputId": "a574b8e9-64c6-4140-bfac-41b001d1cfe3"
      },
      "source": [
        "print(\"Please Wait....\")\n",
        "imagePaths = paths.list_images(\"Data\")\n",
        "data = []\n",
        "labels = []"
      ],
      "execution_count": null,
      "outputs": [
        {
          "output_type": "stream",
          "text": [
            "Please Wait....\n"
          ],
          "name": "stdout"
        }
      ]
    },
    {
      "cell_type": "code",
      "metadata": {
        "id": "T4_Ia15Regk5"
      },
      "source": [
        "for gambar in imagePaths:\n",
        "  image = Image.open(gambar)\n",
        "  image = np.array(image.resize((128, 128))) /255.0\n",
        "  data.append(image)\n",
        "\n",
        "  label = gambar.split(os.path.sep)[-2]\n",
        "  labels.append(label)"
      ],
      "execution_count": null,
      "outputs": []
    },
    {
      "cell_type": "code",
      "metadata": {
        "id": "ZZIt8Ddo6PWV",
        "colab": {
          "base_uri": "https://localhost:8080/"
        },
        "outputId": "8d50f185-8d49-44f5-edb1-2e8595972a9d"
      },
      "source": [
        "print(labels)"
      ],
      "execution_count": null,
      "outputs": [
        {
          "output_type": "stream",
          "text": [
            "['GMB_05', 'GMB_05', 'GMB_05', 'GMB_05', 'GMB_05', 'GMB_05', 'GMB_05', 'GMB_05', 'GMB_05', 'GMB_05', 'GMB_05', 'GMB_05', 'GMB_05', 'GMB_05', 'GMB_05', 'GMB_05', 'GMB_05', 'GMB_05', 'GMB_05', 'GMB_05', 'GMB_05', 'GMB_05', 'GMB_05', 'GMB_05', 'GMB_05', 'GMB_05', 'GMB_05', 'GMB_05', 'GMB_05', 'GMB_05', 'GMB_05', 'GMB_05', 'GMB_05', 'GMB_05', 'GMB_05', 'GMB_05', 'GMB_05', 'GMB_05', 'GMB_05', 'GMB_05', 'GMB_05', 'GMB_05', 'GMB_05', 'GMB_05', 'GMB_05', 'GMB_05', 'GMB_05', 'GMB_05', 'GMB_05', 'GMB_05', 'GMB_05', 'GMB_05', 'GMB_05', 'GMB_05', 'GMB_05', 'GMB_05', 'GMB_05', 'GMB_05', 'GMB_05', 'GMB_05', 'GMB_05', 'GMB_05', 'GMB_05', 'GMB_05', 'GMB_05', 'GMB_05', 'GMB_05', 'GMB_05', 'GMB_05', 'GMB_05', 'GMB_05', 'GMB_05', 'GMB_05', 'GMB_05', 'GMB_05', 'GMB_05', 'GMB_05', 'GMB_05', 'GMB_05', 'GMB_05', 'GMB_05', 'GMB_05', 'GMB_05', 'GMB_05', 'GMB_05', 'GMB_05', 'GMB_05', 'GMB_05', 'GMB_05', 'GMB_05', 'GMB_05', 'GMB_05', 'GMB_05', 'GMB_05', 'GMB_05', 'GMB_05', 'GMB_05', 'GMB_05', 'GMB_05', 'GMB_05', 'GMB_05', 'GMB_05', 'GMB_05', 'GMB_05', 'GMB_05', 'GMB_05', 'GMB_05', 'GMB_05', 'GMB_05', 'GMB_05', 'GMB_05', 'GMB_05', 'GMB_05', 'GMB_05', 'GMB_05', 'GMB_05', 'GMB_05', 'GMB_05', 'GMB_05', 'GMB_05', 'GMB_05', 'GMB_04', 'GMB_04', 'GMB_04', 'GMB_04', 'GMB_04', 'GMB_04', 'GMB_04', 'GMB_04', 'GMB_04', 'GMB_04', 'GMB_04', 'GMB_04', 'GMB_04', 'GMB_04', 'GMB_04', 'GMB_04', 'GMB_04', 'GMB_04', 'GMB_04', 'GMB_04', 'GMB_04', 'GMB_04', 'GMB_04', 'GMB_04', 'GMB_04', 'GMB_04', 'GMB_04', 'GMB_04', 'GMB_04', 'GMB_04', 'GMB_04', 'GMB_04', 'GMB_04', 'GMB_04', 'GMB_04', 'GMB_04', 'GMB_04', 'GMB_04', 'GMB_04', 'GMB_04', 'GMB_04', 'GMB_04', 'GMB_04', 'GMB_04', 'GMB_04', 'GMB_04', 'GMB_04', 'GMB_04', 'GMB_04', 'GMB_04', 'GMB_04', 'GMB_04', 'GMB_04', 'GMB_04', 'GMB_04', 'GMB_04', 'GMB_04', 'GMB_04', 'GMB_04', 'GMB_04', 'GMB_04', 'GMB_04', 'GMB_04', 'GMB_04', 'GMB_04', 'GMB_04', 'GMB_04', 'GMB_04', 'GMB_04', 'GMB_04', 'GMB_04', 'GMB_04', 'GMB_04', 'GMB_04', 'GMB_04', 'GMB_04', 'GMB_04', 'GMB_04', 'GMB_04', 'GMB_04', 'GMB_04', 'GMB_04', 'GMB_04', 'GMB_04', 'GMB_04', 'GMB_04', 'GMB_04', 'GMB_04', 'GMB_04', 'GMB_04', 'GMB_04', 'GMB_04', 'GMB_04', 'GMB_04', 'GMB_04', 'GMB_04', 'GMB_04', 'GMB_04', 'GMB_04', 'GMB_04', 'GMB_04', 'GMB_04', 'GMB_04', 'GMB_04', 'GMB_04', 'GMB_04', 'GMB_04', 'GMB_04', 'GMB_04', 'GMB_04', 'GMB_04', 'GMB_04', 'GMB_04', 'GMB_04', 'GMB_04', 'GMB_04', 'GMB_04', 'GMB_04', 'GMB_04', 'GMB_04', 'GMB_04', 'GMB_04', 'GMB_06', 'GMB_06', 'GMB_06', 'GMB_06', 'GMB_06', 'GMB_06', 'GMB_06', 'GMB_06', 'GMB_06', 'GMB_06', 'GMB_06', 'GMB_06', 'GMB_06', 'GMB_06', 'GMB_06', 'GMB_06', 'GMB_06', 'GMB_06', 'GMB_06', 'GMB_06', 'GMB_06', 'GMB_06', 'GMB_06', 'GMB_06', 'GMB_06', 'GMB_06', 'GMB_06', 'GMB_06', 'GMB_06', 'GMB_06', 'GMB_06', 'GMB_06', 'GMB_06', 'GMB_06', 'GMB_06', 'GMB_06', 'GMB_06', 'GMB_06', 'GMB_06', 'GMB_06', 'GMB_06', 'GMB_06', 'GMB_06', 'GMB_06', 'GMB_06', 'GMB_06', 'GMB_06', 'GMB_06', 'GMB_06', 'GMB_06', 'GMB_06', 'GMB_06', 'GMB_06', 'GMB_06', 'GMB_06', 'GMB_06', 'GMB_06', 'GMB_06', 'GMB_06', 'GMB_06', 'GMB_06', 'GMB_06', 'GMB_06', 'GMB_06', 'GMB_06', 'GMB_06', 'GMB_06', 'GMB_06', 'GMB_06', 'GMB_06', 'GMB_06', 'GMB_06', 'GMB_06', 'GMB_06', 'GMB_06', 'GMB_06', 'GMB_06', 'GMB_06', 'GMB_06', 'GMB_06', 'GMB_06', 'GMB_06', 'GMB_06', 'GMB_06', 'GMB_06', 'GMB_06', 'GMB_06', 'GMB_06', 'GMB_06', 'GMB_06', 'GMB_06', 'GMB_06', 'GMB_06', 'GMB_06', 'GMB_06', 'GMB_06', 'GMB_06', 'GMB_06', 'GMB_06', 'GMB_06', 'GMB_06', 'GMB_06', 'GMB_06', 'GMB_06', 'GMB_06', 'GMB_06', 'GMB_06', 'GMB_06', 'GMB_06', 'GMB_06', 'GMB_06', 'GMB_06', 'GMB_06', 'GMB_06', 'GMB_06', 'GMB_06', 'GMB_06', 'GMB_06', 'GMB_06', 'GMB_06', 'GMB_06', 'GMB_03', 'GMB_03', 'GMB_03', 'GMB_03', 'GMB_03', 'GMB_03', 'GMB_03', 'GMB_03', 'GMB_03', 'GMB_03', 'GMB_03', 'GMB_03', 'GMB_03', 'GMB_03', 'GMB_03', 'GMB_03', 'GMB_03', 'GMB_03', 'GMB_03', 'GMB_03', 'GMB_03', 'GMB_03', 'GMB_03', 'GMB_03', 'GMB_03', 'GMB_03', 'GMB_03', 'GMB_03', 'GMB_03', 'GMB_03', 'GMB_03', 'GMB_03', 'GMB_03', 'GMB_03', 'GMB_03', 'GMB_03', 'GMB_03', 'GMB_03', 'GMB_03', 'GMB_03', 'GMB_03', 'GMB_03', 'GMB_03', 'GMB_03', 'GMB_03', 'GMB_03', 'GMB_03', 'GMB_03', 'GMB_03', 'GMB_03', 'GMB_03', 'GMB_03', 'GMB_03', 'GMB_03', 'GMB_03', 'GMB_03', 'GMB_03', 'GMB_03', 'GMB_03', 'GMB_03', 'GMB_03', 'GMB_03', 'GMB_03', 'GMB_03', 'GMB_03', 'GMB_03', 'GMB_03', 'GMB_03', 'GMB_03', 'GMB_03', 'GMB_03', 'GMB_03', 'GMB_03', 'GMB_03', 'GMB_03', 'GMB_03', 'GMB_03', 'GMB_03', 'GMB_03', 'GMB_03', 'GMB_03', 'GMB_03', 'GMB_03', 'GMB_03', 'GMB_03', 'GMB_03', 'GMB_03', 'GMB_03', 'GMB_03', 'GMB_03', 'GMB_03', 'GMB_03', 'GMB_03', 'GMB_03', 'GMB_03', 'GMB_03', 'GMB_03', 'GMB_03', 'GMB_03', 'GMB_03', 'GMB_03', 'GMB_03', 'GMB_03', 'GMB_03', 'GMB_03', 'GMB_03', 'GMB_03', 'GMB_03', 'GMB_03', 'GMB_03', 'GMB_03', 'GMB_03', 'GMB_08', 'GMB_08', 'GMB_08', 'GMB_08', 'GMB_08', 'GMB_08', 'GMB_08', 'GMB_08', 'GMB_08', 'GMB_08', 'GMB_08', 'GMB_08', 'GMB_08', 'GMB_08', 'GMB_08', 'GMB_08', 'GMB_08', 'GMB_08', 'GMB_08', 'GMB_08', 'GMB_08', 'GMB_08', 'GMB_08', 'GMB_08', 'GMB_08', 'GMB_08', 'GMB_08', 'GMB_08', 'GMB_08', 'GMB_08', 'GMB_08', 'GMB_08', 'GMB_08', 'GMB_08', 'GMB_08', 'GMB_08', 'GMB_08', 'GMB_08', 'GMB_08', 'GMB_08', 'GMB_08', 'GMB_08', 'GMB_08', 'GMB_08', 'GMB_08', 'GMB_08', 'GMB_08', 'GMB_08', 'GMB_08', 'GMB_08', 'GMB_08', 'GMB_08', 'GMB_08', 'GMB_08', 'GMB_08', 'GMB_08', 'GMB_08', 'GMB_08', 'GMB_08', 'GMB_08', 'GMB_08', 'GMB_08', 'GMB_08', 'GMB_08', 'GMB_08', 'GMB_08', 'GMB_08', 'GMB_08', 'GMB_08', 'GMB_08', 'GMB_08', 'GMB_08', 'GMB_08', 'GMB_08', 'GMB_08', 'GMB_08', 'GMB_08', 'GMB_08', 'GMB_08', 'GMB_08', 'GMB_08', 'GMB_08', 'GMB_08', 'GMB_08', 'GMB_08', 'GMB_08', 'GMB_08', 'GMB_08', 'GMB_08', 'GMB_08', 'GMB_08', 'GMB_08', 'GMB_08', 'GMB_08', 'GMB_08', 'GMB_08', 'GMB_08', 'GMB_08', 'GMB_08', 'GMB_08', 'GMB_08', 'GMB_08', 'GMB_08', 'GMB_08', 'GMB_08', 'GMB_08', 'GMB_08', 'GMB_08', 'GMB_08', 'GMB_08', 'GMB_08', 'GMB_08', 'GMB_08', 'GMB_08', 'GMB_08', 'GMB_08', 'GMB_08']\n"
          ],
          "name": "stdout"
        }
      ]
    },
    {
      "cell_type": "code",
      "metadata": {
        "id": "jNqEHCwef5pO"
      },
      "source": [
        "lb = LabelBinarizer()\n",
        "labels = lb.fit_transform(labels)"
      ],
      "execution_count": null,
      "outputs": []
    },
    {
      "cell_type": "code",
      "metadata": {
        "id": "VWLlAU3agDU4",
        "colab": {
          "base_uri": "https://localhost:8080/"
        },
        "outputId": "664ab6fd-7824-4e09-ccf5-0dcb5d28df75"
      },
      "source": [
        "print(labels)"
      ],
      "execution_count": null,
      "outputs": [
        {
          "output_type": "stream",
          "text": [
            "[[0 0 1 0 0]\n",
            " [0 0 1 0 0]\n",
            " [0 0 1 0 0]\n",
            " ...\n",
            " [0 0 0 0 1]\n",
            " [0 0 0 0 1]\n",
            " [0 0 0 0 1]]\n"
          ],
          "name": "stdout"
        }
      ]
    },
    {
      "cell_type": "code",
      "metadata": {
        "id": "jF7vsbOqgGvM",
        "colab": {
          "base_uri": "https://localhost:8080/"
        },
        "outputId": "ab5c77bb-6b4d-4c64-ec6e-d4134b2356e0"
      },
      "source": [
        "(traina, testa, trainb, testb) = train_test_split(np.array(data),\tnp.array(labels), test_size=0.25, shuffle=True)\n",
        "print(traina.shape)\n",
        "print(testa.shape)"
      ],
      "execution_count": null,
      "outputs": [
        {
          "output_type": "stream",
          "text": [
            "(444, 128, 128, 3)\n",
            "(149, 128, 128, 3)\n"
          ],
          "name": "stdout"
        }
      ]
    },
    {
      "cell_type": "code",
      "metadata": {
        "id": "wCHlESowgqJN"
      },
      "source": [
        "  from keras.models import Sequential\n",
        "  from keras.layers.core import Flatten, Dense\n",
        "  from keras.layers import Convolution2D, MaxPooling2D\n",
        "  \n",
        "  model = Sequential()\n",
        "  model.add(Convolution2D(256, 3, 3, activation=\"relu\", input_shape=(128, 128, 3)))\n",
        "  model.add(MaxPooling2D(2,2))\n",
        "  model.add(Convolution2D(64, 3, 3, activation=\"relu\"))\n",
        "  model.add(MaxPooling2D(2, 2))\n",
        "\n",
        "  model.add (Flatten())\n",
        "  model.add(Dense(144, activation=\"relu\", name=\"1st\"))\n",
        "  model.add(Dense(144, activation=\"relu\", name=\"2nd\"))\n",
        "  model.add(Dense(64, activation=\"relu\", name=\"3rd\"))\n",
        "  model.add(Dense(64, activation=\"relu\", name=\"4th\"))\n",
        "  model.add(Dense(32, activation=\"relu\", name=\"5th\"))\n",
        "  model.add(Dense(5, activation = \"softmax\", name=\"6th\"))\n",
        "  "
      ],
      "execution_count": null,
      "outputs": []
    },
    {
      "cell_type": "code",
      "metadata": {
        "id": "pZcTyM2rj_Xp",
        "colab": {
          "base_uri": "https://localhost:8080/"
        },
        "outputId": "1cf21717-ab83-4a87-e324-289b51abe0ae"
      },
      "source": [
        "model.summary()"
      ],
      "execution_count": null,
      "outputs": [
        {
          "output_type": "stream",
          "text": [
            "Model: \"sequential_18\"\n",
            "_________________________________________________________________\n",
            "Layer (type)                 Output Shape              Param #   \n",
            "=================================================================\n",
            "conv2d_36 (Conv2D)           (None, 42, 42, 256)       7168      \n",
            "_________________________________________________________________\n",
            "max_pooling2d_36 (MaxPooling (None, 21, 21, 256)       0         \n",
            "_________________________________________________________________\n",
            "conv2d_37 (Conv2D)           (None, 7, 7, 64)          147520    \n",
            "_________________________________________________________________\n",
            "max_pooling2d_37 (MaxPooling (None, 3, 3, 64)          0         \n",
            "_________________________________________________________________\n",
            "flatten_18 (Flatten)         (None, 576)               0         \n",
            "_________________________________________________________________\n",
            "1st (Dense)                  (None, 144)               83088     \n",
            "_________________________________________________________________\n",
            "2nd (Dense)                  (None, 144)               20880     \n",
            "_________________________________________________________________\n",
            "3rd (Dense)                  (None, 64)                9280      \n",
            "_________________________________________________________________\n",
            "4th (Dense)                  (None, 64)                4160      \n",
            "_________________________________________________________________\n",
            "5th (Dense)                  (None, 32)                2080      \n",
            "_________________________________________________________________\n",
            "6th (Dense)                  (None, 5)                 165       \n",
            "=================================================================\n",
            "Total params: 274,341\n",
            "Trainable params: 274,341\n",
            "Non-trainable params: 0\n",
            "_________________________________________________________________\n"
          ],
          "name": "stdout"
        }
      ]
    },
    {
      "cell_type": "code",
      "metadata": {
        "id": "qFwTdCkNkCUp",
        "colab": {
          "base_uri": "https://localhost:8080/"
        },
        "outputId": "cc04cbd0-bbf1-4b22-cf6c-40418a28e19d"
      },
      "source": [
        "print(\"Training network...\")\n",
        "opt = Adam(lr=1e-3, decay=1e-3 / 50)\n",
        "model.compile(loss=\"categorical_crossentropy\", optimizer=opt,\n",
        "              metrics=[\"accuracy\"])\n",
        "H = model.fit(traina, trainb, validation_data=(testa, testb), epochs=200, batch_size=32)"
      ],
      "execution_count": null,
      "outputs": [
        {
          "output_type": "stream",
          "text": [
            "Training network...\n",
            "Epoch 1/200\n",
            "14/14 [==============================] - 3s 219ms/step - loss: 1.6126 - accuracy: 0.1734 - val_loss: 1.6193 - val_accuracy: 0.1611\n",
            "Epoch 2/200\n",
            "14/14 [==============================] - 3s 198ms/step - loss: 1.6092 - accuracy: 0.2072 - val_loss: 1.6127 - val_accuracy: 0.1611\n",
            "Epoch 3/200\n",
            "14/14 [==============================] - 3s 194ms/step - loss: 1.6057 - accuracy: 0.2140 - val_loss: 1.6236 - val_accuracy: 0.1611\n",
            "Epoch 4/200\n",
            "14/14 [==============================] - 3s 187ms/step - loss: 1.5955 - accuracy: 0.2207 - val_loss: 1.6199 - val_accuracy: 0.1812\n",
            "Epoch 5/200\n",
            "14/14 [==============================] - 3s 206ms/step - loss: 1.5748 - accuracy: 0.3041 - val_loss: 1.5961 - val_accuracy: 0.1946\n",
            "Epoch 6/200\n",
            "14/14 [==============================] - 3s 208ms/step - loss: 1.4819 - accuracy: 0.3739 - val_loss: 1.4767 - val_accuracy: 0.3624\n",
            "Epoch 7/200\n",
            "14/14 [==============================] - 3s 190ms/step - loss: 1.4496 - accuracy: 0.3671 - val_loss: 1.4609 - val_accuracy: 0.4027\n",
            "Epoch 8/200\n",
            "14/14 [==============================] - 3s 210ms/step - loss: 1.3680 - accuracy: 0.4279 - val_loss: 1.3193 - val_accuracy: 0.4631\n",
            "Epoch 9/200\n",
            "14/14 [==============================] - 3s 206ms/step - loss: 1.2667 - accuracy: 0.4662 - val_loss: 1.4514 - val_accuracy: 0.4161\n",
            "Epoch 10/200\n",
            "14/14 [==============================] - 3s 202ms/step - loss: 1.1893 - accuracy: 0.5045 - val_loss: 1.1543 - val_accuracy: 0.5302\n",
            "Epoch 11/200\n",
            "14/14 [==============================] - 3s 190ms/step - loss: 1.0499 - accuracy: 0.5968 - val_loss: 1.0268 - val_accuracy: 0.5705\n",
            "Epoch 12/200\n",
            "14/14 [==============================] - 3s 190ms/step - loss: 0.9926 - accuracy: 0.5968 - val_loss: 1.2316 - val_accuracy: 0.5235\n",
            "Epoch 13/200\n",
            "14/14 [==============================] - 3s 199ms/step - loss: 0.9274 - accuracy: 0.6554 - val_loss: 1.0237 - val_accuracy: 0.6376\n",
            "Epoch 14/200\n",
            "14/14 [==============================] - 3s 199ms/step - loss: 0.8188 - accuracy: 0.7005 - val_loss: 0.7986 - val_accuracy: 0.7181\n",
            "Epoch 15/200\n",
            "14/14 [==============================] - 3s 190ms/step - loss: 0.7967 - accuracy: 0.7027 - val_loss: 0.8751 - val_accuracy: 0.6376\n",
            "Epoch 16/200\n",
            "14/14 [==============================] - 3s 206ms/step - loss: 0.8443 - accuracy: 0.6532 - val_loss: 0.8630 - val_accuracy: 0.6846\n",
            "Epoch 17/200\n",
            "14/14 [==============================] - 3s 192ms/step - loss: 0.7971 - accuracy: 0.6577 - val_loss: 0.7950 - val_accuracy: 0.7114\n",
            "Epoch 18/200\n",
            "14/14 [==============================] - 3s 197ms/step - loss: 0.6058 - accuracy: 0.7613 - val_loss: 0.7365 - val_accuracy: 0.7785\n",
            "Epoch 19/200\n",
            "14/14 [==============================] - 3s 220ms/step - loss: 0.5701 - accuracy: 0.7545 - val_loss: 0.8605 - val_accuracy: 0.7047\n",
            "Epoch 20/200\n",
            "14/14 [==============================] - 3s 191ms/step - loss: 0.5756 - accuracy: 0.7680 - val_loss: 0.8137 - val_accuracy: 0.7047\n",
            "Epoch 21/200\n",
            "14/14 [==============================] - 3s 200ms/step - loss: 0.5770 - accuracy: 0.7432 - val_loss: 0.7267 - val_accuracy: 0.7651\n",
            "Epoch 22/200\n",
            "14/14 [==============================] - 3s 197ms/step - loss: 0.4922 - accuracy: 0.8108 - val_loss: 0.6962 - val_accuracy: 0.7651\n",
            "Epoch 23/200\n",
            "14/14 [==============================] - 3s 210ms/step - loss: 0.4801 - accuracy: 0.7928 - val_loss: 0.6941 - val_accuracy: 0.7450\n",
            "Epoch 24/200\n",
            "14/14 [==============================] - 3s 208ms/step - loss: 0.3961 - accuracy: 0.8604 - val_loss: 0.6597 - val_accuracy: 0.8054\n",
            "Epoch 25/200\n",
            "14/14 [==============================] - 3s 201ms/step - loss: 0.3945 - accuracy: 0.8401 - val_loss: 0.8644 - val_accuracy: 0.7248\n",
            "Epoch 26/200\n",
            "14/14 [==============================] - 3s 211ms/step - loss: 0.4635 - accuracy: 0.8086 - val_loss: 0.6983 - val_accuracy: 0.7584\n",
            "Epoch 27/200\n",
            "14/14 [==============================] - 3s 205ms/step - loss: 0.3611 - accuracy: 0.8671 - val_loss: 0.6499 - val_accuracy: 0.7987\n",
            "Epoch 28/200\n",
            "14/14 [==============================] - 3s 205ms/step - loss: 0.2755 - accuracy: 0.9009 - val_loss: 0.7809 - val_accuracy: 0.7651\n",
            "Epoch 29/200\n",
            "14/14 [==============================] - 3s 188ms/step - loss: 0.2714 - accuracy: 0.9099 - val_loss: 0.7372 - val_accuracy: 0.7919\n",
            "Epoch 30/200\n",
            "14/14 [==============================] - 3s 188ms/step - loss: 0.2310 - accuracy: 0.9257 - val_loss: 0.9690 - val_accuracy: 0.7047\n",
            "Epoch 31/200\n",
            "14/14 [==============================] - 3s 197ms/step - loss: 0.2774 - accuracy: 0.9009 - val_loss: 0.7300 - val_accuracy: 0.8054\n",
            "Epoch 32/200\n",
            "14/14 [==============================] - 3s 204ms/step - loss: 0.2372 - accuracy: 0.9122 - val_loss: 0.8359 - val_accuracy: 0.7315\n",
            "Epoch 33/200\n",
            "14/14 [==============================] - 3s 198ms/step - loss: 0.2720 - accuracy: 0.8941 - val_loss: 0.7468 - val_accuracy: 0.8255\n",
            "Epoch 34/200\n",
            "14/14 [==============================] - 3s 188ms/step - loss: 0.2343 - accuracy: 0.9279 - val_loss: 0.7966 - val_accuracy: 0.7852\n",
            "Epoch 35/200\n",
            "14/14 [==============================] - 3s 188ms/step - loss: 0.1683 - accuracy: 0.9459 - val_loss: 0.8652 - val_accuracy: 0.7785\n",
            "Epoch 36/200\n",
            "14/14 [==============================] - 3s 202ms/step - loss: 0.1759 - accuracy: 0.9302 - val_loss: 0.9066 - val_accuracy: 0.7651\n",
            "Epoch 37/200\n",
            "14/14 [==============================] - 3s 204ms/step - loss: 0.1180 - accuracy: 0.9685 - val_loss: 0.8029 - val_accuracy: 0.7987\n",
            "Epoch 38/200\n",
            "14/14 [==============================] - 3s 201ms/step - loss: 0.0960 - accuracy: 0.9752 - val_loss: 0.9306 - val_accuracy: 0.7584\n",
            "Epoch 39/200\n",
            "14/14 [==============================] - 3s 193ms/step - loss: 0.0827 - accuracy: 0.9775 - val_loss: 1.0294 - val_accuracy: 0.7450\n",
            "Epoch 40/200\n",
            "14/14 [==============================] - 3s 193ms/step - loss: 0.1103 - accuracy: 0.9595 - val_loss: 1.0476 - val_accuracy: 0.7852\n",
            "Epoch 41/200\n",
            "14/14 [==============================] - 3s 194ms/step - loss: 0.0896 - accuracy: 0.9685 - val_loss: 1.0235 - val_accuracy: 0.7651\n",
            "Epoch 42/200\n",
            "14/14 [==============================] - 3s 199ms/step - loss: 0.1160 - accuracy: 0.9572 - val_loss: 0.9861 - val_accuracy: 0.7852\n",
            "Epoch 43/200\n",
            "14/14 [==============================] - 3s 192ms/step - loss: 0.0840 - accuracy: 0.9730 - val_loss: 1.2208 - val_accuracy: 0.7584\n",
            "Epoch 44/200\n",
            "14/14 [==============================] - 3s 192ms/step - loss: 0.1805 - accuracy: 0.9392 - val_loss: 1.0938 - val_accuracy: 0.7450\n",
            "Epoch 45/200\n",
            "14/14 [==============================] - 3s 218ms/step - loss: 0.1375 - accuracy: 0.9527 - val_loss: 0.7306 - val_accuracy: 0.8255\n",
            "Epoch 46/200\n",
            "14/14 [==============================] - 3s 186ms/step - loss: 0.0776 - accuracy: 0.9797 - val_loss: 1.0574 - val_accuracy: 0.7718\n",
            "Epoch 47/200\n",
            "14/14 [==============================] - 3s 199ms/step - loss: 0.1065 - accuracy: 0.9617 - val_loss: 1.0625 - val_accuracy: 0.7718\n",
            "Epoch 48/200\n",
            "14/14 [==============================] - 3s 197ms/step - loss: 0.0833 - accuracy: 0.9775 - val_loss: 1.1350 - val_accuracy: 0.7450\n",
            "Epoch 49/200\n",
            "14/14 [==============================] - 3s 197ms/step - loss: 0.0777 - accuracy: 0.9752 - val_loss: 1.0742 - val_accuracy: 0.7785\n",
            "Epoch 50/200\n",
            "14/14 [==============================] - 3s 187ms/step - loss: 0.1454 - accuracy: 0.9437 - val_loss: 1.1137 - val_accuracy: 0.7584\n",
            "Epoch 51/200\n",
            "14/14 [==============================] - 3s 191ms/step - loss: 0.0725 - accuracy: 0.9752 - val_loss: 0.8673 - val_accuracy: 0.7987\n",
            "Epoch 52/200\n",
            "14/14 [==============================] - 3s 204ms/step - loss: 0.0583 - accuracy: 0.9797 - val_loss: 1.1505 - val_accuracy: 0.7517\n",
            "Epoch 53/200\n",
            "14/14 [==============================] - 3s 212ms/step - loss: 0.0331 - accuracy: 0.9865 - val_loss: 1.1054 - val_accuracy: 0.7785\n",
            "Epoch 54/200\n",
            "14/14 [==============================] - 3s 191ms/step - loss: 0.0234 - accuracy: 0.9977 - val_loss: 1.0702 - val_accuracy: 0.7919\n",
            "Epoch 55/200\n",
            "14/14 [==============================] - 3s 208ms/step - loss: 0.0130 - accuracy: 1.0000 - val_loss: 1.1167 - val_accuracy: 0.7651\n",
            "Epoch 56/200\n",
            "14/14 [==============================] - 3s 210ms/step - loss: 0.0088 - accuracy: 1.0000 - val_loss: 1.1574 - val_accuracy: 0.7584\n",
            "Epoch 57/200\n",
            "14/14 [==============================] - 3s 197ms/step - loss: 0.0058 - accuracy: 1.0000 - val_loss: 1.1908 - val_accuracy: 0.7852\n",
            "Epoch 58/200\n",
            "14/14 [==============================] - 3s 189ms/step - loss: 0.0045 - accuracy: 1.0000 - val_loss: 1.1969 - val_accuracy: 0.7785\n",
            "Epoch 59/200\n",
            "14/14 [==============================] - 3s 205ms/step - loss: 0.0031 - accuracy: 1.0000 - val_loss: 1.1970 - val_accuracy: 0.7785\n",
            "Epoch 60/200\n",
            "14/14 [==============================] - 3s 213ms/step - loss: 0.0023 - accuracy: 1.0000 - val_loss: 1.2051 - val_accuracy: 0.7785\n",
            "Epoch 61/200\n",
            "14/14 [==============================] - 3s 188ms/step - loss: 0.0020 - accuracy: 1.0000 - val_loss: 1.2190 - val_accuracy: 0.7785\n",
            "Epoch 62/200\n",
            "14/14 [==============================] - 3s 197ms/step - loss: 0.0016 - accuracy: 1.0000 - val_loss: 1.2453 - val_accuracy: 0.7785\n",
            "Epoch 63/200\n",
            "14/14 [==============================] - 3s 199ms/step - loss: 0.0014 - accuracy: 1.0000 - val_loss: 1.2611 - val_accuracy: 0.7785\n",
            "Epoch 64/200\n",
            "14/14 [==============================] - 3s 199ms/step - loss: 0.0013 - accuracy: 1.0000 - val_loss: 1.2817 - val_accuracy: 0.7785\n",
            "Epoch 65/200\n",
            "14/14 [==============================] - 3s 204ms/step - loss: 0.0012 - accuracy: 1.0000 - val_loss: 1.2956 - val_accuracy: 0.7785\n",
            "Epoch 66/200\n",
            "14/14 [==============================] - 3s 214ms/step - loss: 0.0010 - accuracy: 1.0000 - val_loss: 1.3097 - val_accuracy: 0.7785\n",
            "Epoch 67/200\n",
            "14/14 [==============================] - 3s 191ms/step - loss: 0.0010 - accuracy: 1.0000 - val_loss: 1.3245 - val_accuracy: 0.7785\n",
            "Epoch 68/200\n",
            "14/14 [==============================] - 3s 198ms/step - loss: 8.9086e-04 - accuracy: 1.0000 - val_loss: 1.3351 - val_accuracy: 0.7785\n",
            "Epoch 69/200\n",
            "14/14 [==============================] - 3s 207ms/step - loss: 8.1514e-04 - accuracy: 1.0000 - val_loss: 1.3461 - val_accuracy: 0.7785\n",
            "Epoch 70/200\n",
            "14/14 [==============================] - 3s 203ms/step - loss: 7.6885e-04 - accuracy: 1.0000 - val_loss: 1.3585 - val_accuracy: 0.7785\n",
            "Epoch 71/200\n",
            "14/14 [==============================] - 3s 207ms/step - loss: 7.1394e-04 - accuracy: 1.0000 - val_loss: 1.3725 - val_accuracy: 0.7785\n",
            "Epoch 72/200\n",
            "14/14 [==============================] - 3s 194ms/step - loss: 6.6708e-04 - accuracy: 1.0000 - val_loss: 1.3774 - val_accuracy: 0.7785\n",
            "Epoch 73/200\n",
            "14/14 [==============================] - 4s 267ms/step - loss: 6.1802e-04 - accuracy: 1.0000 - val_loss: 1.3862 - val_accuracy: 0.7785\n",
            "Epoch 74/200\n",
            "14/14 [==============================] - 5s 328ms/step - loss: 5.8491e-04 - accuracy: 1.0000 - val_loss: 1.3973 - val_accuracy: 0.7785\n",
            "Epoch 75/200\n",
            "14/14 [==============================] - 3s 195ms/step - loss: 5.5015e-04 - accuracy: 1.0000 - val_loss: 1.4080 - val_accuracy: 0.7785\n",
            "Epoch 76/200\n",
            "14/14 [==============================] - 3s 206ms/step - loss: 5.1742e-04 - accuracy: 1.0000 - val_loss: 1.4157 - val_accuracy: 0.7785\n",
            "Epoch 77/200\n",
            "14/14 [==============================] - 3s 207ms/step - loss: 4.8630e-04 - accuracy: 1.0000 - val_loss: 1.4238 - val_accuracy: 0.7785\n",
            "Epoch 78/200\n",
            "14/14 [==============================] - 3s 205ms/step - loss: 4.6177e-04 - accuracy: 1.0000 - val_loss: 1.4309 - val_accuracy: 0.7785\n",
            "Epoch 79/200\n",
            "14/14 [==============================] - 3s 198ms/step - loss: 4.3215e-04 - accuracy: 1.0000 - val_loss: 1.4403 - val_accuracy: 0.7785\n",
            "Epoch 80/200\n",
            "14/14 [==============================] - 3s 201ms/step - loss: 4.1644e-04 - accuracy: 1.0000 - val_loss: 1.4480 - val_accuracy: 0.7785\n",
            "Epoch 81/200\n",
            "14/14 [==============================] - 3s 193ms/step - loss: 3.9101e-04 - accuracy: 1.0000 - val_loss: 1.4539 - val_accuracy: 0.7785\n",
            "Epoch 82/200\n",
            "14/14 [==============================] - 3s 194ms/step - loss: 3.7682e-04 - accuracy: 1.0000 - val_loss: 1.4618 - val_accuracy: 0.7785\n",
            "Epoch 83/200\n",
            "14/14 [==============================] - 3s 206ms/step - loss: 3.5947e-04 - accuracy: 1.0000 - val_loss: 1.4679 - val_accuracy: 0.7785\n",
            "Epoch 84/200\n",
            "14/14 [==============================] - 3s 203ms/step - loss: 3.4655e-04 - accuracy: 1.0000 - val_loss: 1.4772 - val_accuracy: 0.7785\n",
            "Epoch 85/200\n",
            "14/14 [==============================] - 3s 201ms/step - loss: 3.3467e-04 - accuracy: 1.0000 - val_loss: 1.4819 - val_accuracy: 0.7785\n",
            "Epoch 86/200\n",
            "14/14 [==============================] - 3s 195ms/step - loss: 3.1336e-04 - accuracy: 1.0000 - val_loss: 1.4883 - val_accuracy: 0.7785\n",
            "Epoch 87/200\n",
            "14/14 [==============================] - 3s 204ms/step - loss: 3.0647e-04 - accuracy: 1.0000 - val_loss: 1.4948 - val_accuracy: 0.7785\n",
            "Epoch 88/200\n",
            "14/14 [==============================] - 3s 192ms/step - loss: 2.9196e-04 - accuracy: 1.0000 - val_loss: 1.5030 - val_accuracy: 0.7785\n",
            "Epoch 89/200\n",
            "14/14 [==============================] - 3s 201ms/step - loss: 2.8782e-04 - accuracy: 1.0000 - val_loss: 1.5087 - val_accuracy: 0.7785\n",
            "Epoch 90/200\n",
            "14/14 [==============================] - 3s 212ms/step - loss: 2.6501e-04 - accuracy: 1.0000 - val_loss: 1.5135 - val_accuracy: 0.7785\n",
            "Epoch 91/200\n",
            "14/14 [==============================] - 3s 210ms/step - loss: 2.5282e-04 - accuracy: 1.0000 - val_loss: 1.5206 - val_accuracy: 0.7785\n",
            "Epoch 92/200\n",
            "14/14 [==============================] - 3s 213ms/step - loss: 2.4555e-04 - accuracy: 1.0000 - val_loss: 1.5258 - val_accuracy: 0.7785\n",
            "Epoch 93/200\n",
            "14/14 [==============================] - 3s 210ms/step - loss: 2.3552e-04 - accuracy: 1.0000 - val_loss: 1.5301 - val_accuracy: 0.7785\n",
            "Epoch 94/200\n",
            "14/14 [==============================] - 3s 195ms/step - loss: 2.2645e-04 - accuracy: 1.0000 - val_loss: 1.5359 - val_accuracy: 0.7785\n",
            "Epoch 95/200\n",
            "14/14 [==============================] - 3s 205ms/step - loss: 2.1748e-04 - accuracy: 1.0000 - val_loss: 1.5430 - val_accuracy: 0.7785\n",
            "Epoch 96/200\n",
            "14/14 [==============================] - 3s 202ms/step - loss: 2.1155e-04 - accuracy: 1.0000 - val_loss: 1.5504 - val_accuracy: 0.7785\n",
            "Epoch 97/200\n",
            "14/14 [==============================] - 3s 200ms/step - loss: 2.0355e-04 - accuracy: 1.0000 - val_loss: 1.5526 - val_accuracy: 0.7785\n",
            "Epoch 98/200\n",
            "14/14 [==============================] - 3s 193ms/step - loss: 1.9956e-04 - accuracy: 1.0000 - val_loss: 1.5576 - val_accuracy: 0.7785\n",
            "Epoch 99/200\n",
            "14/14 [==============================] - 3s 219ms/step - loss: 1.9255e-04 - accuracy: 1.0000 - val_loss: 1.5631 - val_accuracy: 0.7785\n",
            "Epoch 100/200\n",
            "14/14 [==============================] - 3s 210ms/step - loss: 1.8597e-04 - accuracy: 1.0000 - val_loss: 1.5685 - val_accuracy: 0.7785\n",
            "Epoch 101/200\n",
            "14/14 [==============================] - 3s 210ms/step - loss: 1.7884e-04 - accuracy: 1.0000 - val_loss: 1.5738 - val_accuracy: 0.7785\n",
            "Epoch 102/200\n",
            "14/14 [==============================] - 3s 213ms/step - loss: 1.7394e-04 - accuracy: 1.0000 - val_loss: 1.5774 - val_accuracy: 0.7852\n",
            "Epoch 103/200\n",
            "14/14 [==============================] - 3s 201ms/step - loss: 1.6799e-04 - accuracy: 1.0000 - val_loss: 1.5823 - val_accuracy: 0.7785\n",
            "Epoch 104/200\n",
            "14/14 [==============================] - 3s 191ms/step - loss: 1.6209e-04 - accuracy: 1.0000 - val_loss: 1.5875 - val_accuracy: 0.7785\n",
            "Epoch 105/200\n",
            "14/14 [==============================] - 3s 193ms/step - loss: 1.6275e-04 - accuracy: 1.0000 - val_loss: 1.5907 - val_accuracy: 0.7785\n",
            "Epoch 106/200\n",
            "14/14 [==============================] - 3s 198ms/step - loss: 1.5452e-04 - accuracy: 1.0000 - val_loss: 1.5951 - val_accuracy: 0.7785\n",
            "Epoch 107/200\n",
            "14/14 [==============================] - 3s 208ms/step - loss: 1.4935e-04 - accuracy: 1.0000 - val_loss: 1.6017 - val_accuracy: 0.7852\n",
            "Epoch 108/200\n",
            "14/14 [==============================] - 3s 211ms/step - loss: 1.4409e-04 - accuracy: 1.0000 - val_loss: 1.6048 - val_accuracy: 0.7785\n",
            "Epoch 109/200\n",
            "14/14 [==============================] - 3s 209ms/step - loss: 1.4220e-04 - accuracy: 1.0000 - val_loss: 1.6098 - val_accuracy: 0.7785\n",
            "Epoch 110/200\n",
            "14/14 [==============================] - 3s 199ms/step - loss: 1.3806e-04 - accuracy: 1.0000 - val_loss: 1.6139 - val_accuracy: 0.7852\n",
            "Epoch 111/200\n",
            "14/14 [==============================] - 3s 192ms/step - loss: 1.3298e-04 - accuracy: 1.0000 - val_loss: 1.6180 - val_accuracy: 0.7785\n",
            "Epoch 112/200\n",
            "14/14 [==============================] - 3s 190ms/step - loss: 1.3085e-04 - accuracy: 1.0000 - val_loss: 1.6215 - val_accuracy: 0.7785\n",
            "Epoch 113/200\n",
            "14/14 [==============================] - 3s 190ms/step - loss: 1.2824e-04 - accuracy: 1.0000 - val_loss: 1.6253 - val_accuracy: 0.7785\n",
            "Epoch 114/200\n",
            "14/14 [==============================] - 3s 191ms/step - loss: 1.2545e-04 - accuracy: 1.0000 - val_loss: 1.6295 - val_accuracy: 0.7852\n",
            "Epoch 115/200\n",
            "14/14 [==============================] - 3s 203ms/step - loss: 1.1942e-04 - accuracy: 1.0000 - val_loss: 1.6328 - val_accuracy: 0.7852\n",
            "Epoch 116/200\n",
            "14/14 [==============================] - 3s 204ms/step - loss: 1.1526e-04 - accuracy: 1.0000 - val_loss: 1.6371 - val_accuracy: 0.7852\n",
            "Epoch 117/200\n",
            "14/14 [==============================] - 3s 199ms/step - loss: 1.1231e-04 - accuracy: 1.0000 - val_loss: 1.6424 - val_accuracy: 0.7852\n",
            "Epoch 118/200\n",
            "14/14 [==============================] - 3s 191ms/step - loss: 1.0953e-04 - accuracy: 1.0000 - val_loss: 1.6469 - val_accuracy: 0.7852\n",
            "Epoch 119/200\n",
            "14/14 [==============================] - 3s 207ms/step - loss: 1.0699e-04 - accuracy: 1.0000 - val_loss: 1.6520 - val_accuracy: 0.7852\n",
            "Epoch 120/200\n",
            "14/14 [==============================] - 3s 212ms/step - loss: 1.0426e-04 - accuracy: 1.0000 - val_loss: 1.6553 - val_accuracy: 0.7852\n",
            "Epoch 121/200\n",
            "14/14 [==============================] - 3s 207ms/step - loss: 1.0169e-04 - accuracy: 1.0000 - val_loss: 1.6582 - val_accuracy: 0.7852\n",
            "Epoch 122/200\n",
            "14/14 [==============================] - 3s 214ms/step - loss: 9.9708e-05 - accuracy: 1.0000 - val_loss: 1.6626 - val_accuracy: 0.7852\n",
            "Epoch 123/200\n",
            "14/14 [==============================] - 3s 208ms/step - loss: 9.7261e-05 - accuracy: 1.0000 - val_loss: 1.6675 - val_accuracy: 0.7852\n",
            "Epoch 124/200\n",
            "14/14 [==============================] - 3s 200ms/step - loss: 9.4775e-05 - accuracy: 1.0000 - val_loss: 1.6719 - val_accuracy: 0.7852\n",
            "Epoch 125/200\n",
            "14/14 [==============================] - 3s 199ms/step - loss: 9.2609e-05 - accuracy: 1.0000 - val_loss: 1.6752 - val_accuracy: 0.7852\n",
            "Epoch 126/200\n",
            "14/14 [==============================] - 3s 209ms/step - loss: 9.0654e-05 - accuracy: 1.0000 - val_loss: 1.6813 - val_accuracy: 0.7852\n",
            "Epoch 127/200\n",
            "14/14 [==============================] - 3s 201ms/step - loss: 8.8570e-05 - accuracy: 1.0000 - val_loss: 1.6841 - val_accuracy: 0.7852\n",
            "Epoch 128/200\n",
            "14/14 [==============================] - 3s 190ms/step - loss: 8.7055e-05 - accuracy: 1.0000 - val_loss: 1.6866 - val_accuracy: 0.7852\n",
            "Epoch 129/200\n",
            "14/14 [==============================] - 3s 198ms/step - loss: 8.4173e-05 - accuracy: 1.0000 - val_loss: 1.6908 - val_accuracy: 0.7852\n",
            "Epoch 130/200\n",
            "14/14 [==============================] - 3s 209ms/step - loss: 8.4113e-05 - accuracy: 1.0000 - val_loss: 1.6945 - val_accuracy: 0.7852\n",
            "Epoch 131/200\n",
            "14/14 [==============================] - 3s 199ms/step - loss: 8.0833e-05 - accuracy: 1.0000 - val_loss: 1.6970 - val_accuracy: 0.7852\n",
            "Epoch 132/200\n",
            "14/14 [==============================] - 3s 189ms/step - loss: 8.0313e-05 - accuracy: 1.0000 - val_loss: 1.7016 - val_accuracy: 0.7852\n",
            "Epoch 133/200\n",
            "14/14 [==============================] - 3s 190ms/step - loss: 7.7910e-05 - accuracy: 1.0000 - val_loss: 1.7052 - val_accuracy: 0.7852\n",
            "Epoch 134/200\n",
            "14/14 [==============================] - 3s 208ms/step - loss: 7.5633e-05 - accuracy: 1.0000 - val_loss: 1.7095 - val_accuracy: 0.7852\n",
            "Epoch 135/200\n",
            "14/14 [==============================] - 3s 190ms/step - loss: 7.4357e-05 - accuracy: 1.0000 - val_loss: 1.7122 - val_accuracy: 0.7852\n",
            "Epoch 136/200\n",
            "14/14 [==============================] - 3s 200ms/step - loss: 7.2386e-05 - accuracy: 1.0000 - val_loss: 1.7147 - val_accuracy: 0.7852\n",
            "Epoch 137/200\n",
            "14/14 [==============================] - 3s 207ms/step - loss: 7.1560e-05 - accuracy: 1.0000 - val_loss: 1.7182 - val_accuracy: 0.7852\n",
            "Epoch 138/200\n",
            "14/14 [==============================] - 3s 190ms/step - loss: 7.0388e-05 - accuracy: 1.0000 - val_loss: 1.7223 - val_accuracy: 0.7852\n",
            "Epoch 139/200\n",
            "14/14 [==============================] - 3s 208ms/step - loss: 6.8471e-05 - accuracy: 1.0000 - val_loss: 1.7263 - val_accuracy: 0.7852\n",
            "Epoch 140/200\n",
            "14/14 [==============================] - 3s 215ms/step - loss: 6.7427e-05 - accuracy: 1.0000 - val_loss: 1.7291 - val_accuracy: 0.7852\n",
            "Epoch 141/200\n",
            "14/14 [==============================] - 3s 202ms/step - loss: 6.5492e-05 - accuracy: 1.0000 - val_loss: 1.7315 - val_accuracy: 0.7852\n",
            "Epoch 142/200\n",
            "14/14 [==============================] - 3s 214ms/step - loss: 6.4778e-05 - accuracy: 1.0000 - val_loss: 1.7365 - val_accuracy: 0.7852\n",
            "Epoch 143/200\n",
            "14/14 [==============================] - 3s 197ms/step - loss: 6.3625e-05 - accuracy: 1.0000 - val_loss: 1.7393 - val_accuracy: 0.7852\n",
            "Epoch 144/200\n",
            "14/14 [==============================] - 3s 214ms/step - loss: 6.1902e-05 - accuracy: 1.0000 - val_loss: 1.7431 - val_accuracy: 0.7852\n",
            "Epoch 145/200\n",
            "14/14 [==============================] - 3s 210ms/step - loss: 6.0753e-05 - accuracy: 1.0000 - val_loss: 1.7447 - val_accuracy: 0.7852\n",
            "Epoch 146/200\n",
            "14/14 [==============================] - 3s 206ms/step - loss: 5.9405e-05 - accuracy: 1.0000 - val_loss: 1.7475 - val_accuracy: 0.7852\n",
            "Epoch 147/200\n",
            "14/14 [==============================] - 3s 215ms/step - loss: 5.8244e-05 - accuracy: 1.0000 - val_loss: 1.7507 - val_accuracy: 0.7852\n",
            "Epoch 148/200\n",
            "14/14 [==============================] - 3s 219ms/step - loss: 5.7188e-05 - accuracy: 1.0000 - val_loss: 1.7542 - val_accuracy: 0.7852\n",
            "Epoch 149/200\n",
            "14/14 [==============================] - 3s 218ms/step - loss: 5.6324e-05 - accuracy: 1.0000 - val_loss: 1.7578 - val_accuracy: 0.7852\n",
            "Epoch 150/200\n",
            "14/14 [==============================] - 3s 212ms/step - loss: 5.5012e-05 - accuracy: 1.0000 - val_loss: 1.7602 - val_accuracy: 0.7852\n",
            "Epoch 151/200\n",
            "14/14 [==============================] - 3s 207ms/step - loss: 5.3823e-05 - accuracy: 1.0000 - val_loss: 1.7645 - val_accuracy: 0.7852\n",
            "Epoch 152/200\n",
            "14/14 [==============================] - 3s 203ms/step - loss: 5.3017e-05 - accuracy: 1.0000 - val_loss: 1.7672 - val_accuracy: 0.7852\n",
            "Epoch 153/200\n",
            "14/14 [==============================] - 3s 190ms/step - loss: 5.1875e-05 - accuracy: 1.0000 - val_loss: 1.7679 - val_accuracy: 0.7852\n",
            "Epoch 154/200\n",
            "14/14 [==============================] - 3s 198ms/step - loss: 5.0943e-05 - accuracy: 1.0000 - val_loss: 1.7711 - val_accuracy: 0.7852\n",
            "Epoch 155/200\n",
            "14/14 [==============================] - 3s 209ms/step - loss: 4.9759e-05 - accuracy: 1.0000 - val_loss: 1.7754 - val_accuracy: 0.7852\n",
            "Epoch 156/200\n",
            "14/14 [==============================] - 3s 220ms/step - loss: 4.9050e-05 - accuracy: 1.0000 - val_loss: 1.7767 - val_accuracy: 0.7852\n",
            "Epoch 157/200\n",
            "14/14 [==============================] - 3s 208ms/step - loss: 4.8412e-05 - accuracy: 1.0000 - val_loss: 1.7793 - val_accuracy: 0.7852\n",
            "Epoch 158/200\n",
            "14/14 [==============================] - 3s 210ms/step - loss: 4.7446e-05 - accuracy: 1.0000 - val_loss: 1.7821 - val_accuracy: 0.7852\n",
            "Epoch 159/200\n",
            "14/14 [==============================] - 3s 190ms/step - loss: 4.6378e-05 - accuracy: 1.0000 - val_loss: 1.7852 - val_accuracy: 0.7852\n",
            "Epoch 160/200\n",
            "14/14 [==============================] - 3s 200ms/step - loss: 4.5657e-05 - accuracy: 1.0000 - val_loss: 1.7873 - val_accuracy: 0.7852\n",
            "Epoch 161/200\n",
            "14/14 [==============================] - 3s 191ms/step - loss: 4.4859e-05 - accuracy: 1.0000 - val_loss: 1.7903 - val_accuracy: 0.7852\n",
            "Epoch 162/200\n",
            "14/14 [==============================] - 3s 203ms/step - loss: 4.3871e-05 - accuracy: 1.0000 - val_loss: 1.7933 - val_accuracy: 0.7852\n",
            "Epoch 163/200\n",
            "14/14 [==============================] - 3s 192ms/step - loss: 4.3094e-05 - accuracy: 1.0000 - val_loss: 1.7962 - val_accuracy: 0.7852\n",
            "Epoch 164/200\n",
            "14/14 [==============================] - 3s 192ms/step - loss: 4.2400e-05 - accuracy: 1.0000 - val_loss: 1.7981 - val_accuracy: 0.7852\n",
            "Epoch 165/200\n",
            "14/14 [==============================] - 3s 202ms/step - loss: 4.1466e-05 - accuracy: 1.0000 - val_loss: 1.8001 - val_accuracy: 0.7852\n",
            "Epoch 166/200\n",
            "14/14 [==============================] - 3s 204ms/step - loss: 4.1151e-05 - accuracy: 1.0000 - val_loss: 1.8033 - val_accuracy: 0.7852\n",
            "Epoch 167/200\n",
            "14/14 [==============================] - 3s 211ms/step - loss: 4.0221e-05 - accuracy: 1.0000 - val_loss: 1.8065 - val_accuracy: 0.7852\n",
            "Epoch 168/200\n",
            "14/14 [==============================] - 3s 206ms/step - loss: 3.9630e-05 - accuracy: 1.0000 - val_loss: 1.8086 - val_accuracy: 0.7852\n",
            "Epoch 169/200\n",
            "14/14 [==============================] - 3s 214ms/step - loss: 3.9053e-05 - accuracy: 1.0000 - val_loss: 1.8120 - val_accuracy: 0.7852\n",
            "Epoch 170/200\n",
            "14/14 [==============================] - 3s 212ms/step - loss: 3.8664e-05 - accuracy: 1.0000 - val_loss: 1.8142 - val_accuracy: 0.7852\n",
            "Epoch 171/200\n",
            "14/14 [==============================] - 3s 208ms/step - loss: 3.7470e-05 - accuracy: 1.0000 - val_loss: 1.8155 - val_accuracy: 0.7852\n",
            "Epoch 172/200\n",
            "14/14 [==============================] - 3s 195ms/step - loss: 3.6950e-05 - accuracy: 1.0000 - val_loss: 1.8186 - val_accuracy: 0.7852\n",
            "Epoch 173/200\n",
            "14/14 [==============================] - 3s 217ms/step - loss: 3.6389e-05 - accuracy: 1.0000 - val_loss: 1.8211 - val_accuracy: 0.7852\n",
            "Epoch 174/200\n",
            "14/14 [==============================] - 3s 202ms/step - loss: 3.5798e-05 - accuracy: 1.0000 - val_loss: 1.8236 - val_accuracy: 0.7852\n",
            "Epoch 175/200\n",
            "14/14 [==============================] - 3s 219ms/step - loss: 3.5367e-05 - accuracy: 1.0000 - val_loss: 1.8264 - val_accuracy: 0.7852\n",
            "Epoch 176/200\n",
            "14/14 [==============================] - 3s 191ms/step - loss: 3.4468e-05 - accuracy: 1.0000 - val_loss: 1.8288 - val_accuracy: 0.7852\n",
            "Epoch 177/200\n",
            "14/14 [==============================] - 3s 195ms/step - loss: 3.3932e-05 - accuracy: 1.0000 - val_loss: 1.8320 - val_accuracy: 0.7852\n",
            "Epoch 178/200\n",
            "14/14 [==============================] - 3s 207ms/step - loss: 3.3349e-05 - accuracy: 1.0000 - val_loss: 1.8335 - val_accuracy: 0.7852\n",
            "Epoch 179/200\n",
            "14/14 [==============================] - 3s 197ms/step - loss: 3.3016e-05 - accuracy: 1.0000 - val_loss: 1.8365 - val_accuracy: 0.7852\n",
            "Epoch 180/200\n",
            "14/14 [==============================] - 3s 213ms/step - loss: 3.2157e-05 - accuracy: 1.0000 - val_loss: 1.8403 - val_accuracy: 0.7852\n",
            "Epoch 181/200\n",
            "14/14 [==============================] - 3s 200ms/step - loss: 3.1800e-05 - accuracy: 1.0000 - val_loss: 1.8423 - val_accuracy: 0.7852\n",
            "Epoch 182/200\n",
            "14/14 [==============================] - 3s 216ms/step - loss: 3.1463e-05 - accuracy: 1.0000 - val_loss: 1.8441 - val_accuracy: 0.7852\n",
            "Epoch 183/200\n",
            "14/14 [==============================] - 3s 203ms/step - loss: 3.0554e-05 - accuracy: 1.0000 - val_loss: 1.8475 - val_accuracy: 0.7852\n",
            "Epoch 184/200\n",
            "14/14 [==============================] - 3s 205ms/step - loss: 3.0162e-05 - accuracy: 1.0000 - val_loss: 1.8499 - val_accuracy: 0.7852\n",
            "Epoch 185/200\n",
            "14/14 [==============================] - 3s 210ms/step - loss: 2.9717e-05 - accuracy: 1.0000 - val_loss: 1.8528 - val_accuracy: 0.7852\n",
            "Epoch 186/200\n",
            "14/14 [==============================] - 3s 210ms/step - loss: 2.9408e-05 - accuracy: 1.0000 - val_loss: 1.8552 - val_accuracy: 0.7852\n",
            "Epoch 187/200\n",
            "14/14 [==============================] - 3s 196ms/step - loss: 2.8871e-05 - accuracy: 1.0000 - val_loss: 1.8580 - val_accuracy: 0.7852\n",
            "Epoch 188/200\n",
            "14/14 [==============================] - 3s 200ms/step - loss: 2.8308e-05 - accuracy: 1.0000 - val_loss: 1.8601 - val_accuracy: 0.7852\n",
            "Epoch 189/200\n",
            "14/14 [==============================] - 3s 193ms/step - loss: 2.7871e-05 - accuracy: 1.0000 - val_loss: 1.8627 - val_accuracy: 0.7852\n",
            "Epoch 190/200\n",
            "14/14 [==============================] - 3s 191ms/step - loss: 2.7517e-05 - accuracy: 1.0000 - val_loss: 1.8650 - val_accuracy: 0.7852\n",
            "Epoch 191/200\n",
            "14/14 [==============================] - 3s 191ms/step - loss: 2.6990e-05 - accuracy: 1.0000 - val_loss: 1.8675 - val_accuracy: 0.7852\n",
            "Epoch 192/200\n",
            "14/14 [==============================] - 3s 191ms/step - loss: 2.6604e-05 - accuracy: 1.0000 - val_loss: 1.8707 - val_accuracy: 0.7852\n",
            "Epoch 193/200\n",
            "14/14 [==============================] - 3s 207ms/step - loss: 2.6235e-05 - accuracy: 1.0000 - val_loss: 1.8729 - val_accuracy: 0.7852\n",
            "Epoch 194/200\n",
            "14/14 [==============================] - 3s 211ms/step - loss: 2.5966e-05 - accuracy: 1.0000 - val_loss: 1.8746 - val_accuracy: 0.7852\n",
            "Epoch 195/200\n",
            "14/14 [==============================] - 3s 208ms/step - loss: 2.5365e-05 - accuracy: 1.0000 - val_loss: 1.8781 - val_accuracy: 0.7852\n",
            "Epoch 196/200\n",
            "14/14 [==============================] - 3s 198ms/step - loss: 2.5013e-05 - accuracy: 1.0000 - val_loss: 1.8794 - val_accuracy: 0.7852\n",
            "Epoch 197/200\n",
            "14/14 [==============================] - 3s 191ms/step - loss: 2.4690e-05 - accuracy: 1.0000 - val_loss: 1.8821 - val_accuracy: 0.7852\n",
            "Epoch 198/200\n",
            "14/14 [==============================] - 3s 197ms/step - loss: 2.4324e-05 - accuracy: 1.0000 - val_loss: 1.8847 - val_accuracy: 0.7852\n",
            "Epoch 199/200\n",
            "14/14 [==============================] - 3s 208ms/step - loss: 2.3852e-05 - accuracy: 1.0000 - val_loss: 1.8873 - val_accuracy: 0.7852\n",
            "Epoch 200/200\n",
            "14/14 [==============================] - 3s 202ms/step - loss: 2.3488e-05 - accuracy: 1.0000 - val_loss: 1.8898 - val_accuracy: 0.7852\n"
          ],
          "name": "stdout"
        }
      ]
    },
    {
      "cell_type": "code",
      "metadata": {
        "id": "Djw2L49YofAp",
        "colab": {
          "base_uri": "https://localhost:8080/",
          "height": 590
        },
        "outputId": "392a8684-1d6f-4031-ef03-ec05b1bc88a3"
      },
      "source": [
        "import matplotlib.pyplot as plt\n",
        "\n",
        "print(H.history.keys())\n",
        "\n",
        "plt.plot(H.history['accuracy'])\n",
        "plt.plot(H.history['val_accuracy'])\n",
        "plt.title('model accuracy')\n",
        "plt.ylabel('accuracy')\n",
        "plt.xlabel('epoch')\n",
        "plt.legend(['train', 'test'], loc='upper left')\n",
        "plt.show()\n",
        "\n",
        "plt.plot(H.history['loss'])\n",
        "plt.plot(H.history['val_loss'])\n",
        "plt.title('model loss')\n",
        "plt.ylabel('loss')\n",
        "plt.xlabel('epoch')\n",
        "plt.legend(['train', 'test'], loc='upper left')\n",
        "plt.show()"
      ],
      "execution_count": null,
      "outputs": [
        {
          "output_type": "stream",
          "text": [
            "dict_keys(['loss', 'accuracy', 'val_loss', 'val_accuracy'])\n"
          ],
          "name": "stdout"
        },
        {
          "output_type": "display_data",
          "data": {
            "image/png": "[encoded data removed]",
            "text/plain": [
              "<Figure size 432x288 with 1 Axes>"
            ]
          },
          "metadata": {
            "tags": [],
            "needs_background": "light"
          }
        },
        {
          "output_type": "display_data",
          "data": {
            "image/png": "[encoded data removed]",
            "text/plain": [
              "<Figure size 432x288 with 1 Axes>"
            ]
          },
          "metadata": {
            "tags": [],
            "needs_background": "light"
          }
        }
      ]
    },
    {
      "cell_type": "code",
      "metadata": {
        "id": "5NN3aYNX5otx",
        "colab": {
          "base_uri": "https://localhost:8080/"
        },
        "outputId": "c8248b54-ee7e-43fc-f1ce-de21b234d2be"
      },
      "source": [
        "print(\"Evaluating network...\")\n",
        "predictions = model.predict(testa, batch_size=32)\n",
        "print(classification_report(testb.argmax(axis=1),\n",
        "                            predictions.argmax(axis=1), target_names=lb.classes_))"
      ],
      "execution_count": null,
      "outputs": [
        {
          "output_type": "stream",
          "text": [
            "Evaluating network...\n",
            "              precision    recall  f1-score   support\n",
            "\n",
            "      GMB_03       0.87      0.82      0.84        33\n",
            "      GMB_04       0.75      0.75      0.75        28\n",
            "      GMB_05       0.89      0.87      0.88        38\n",
            "      GMB_06       0.55      0.71      0.62        24\n",
            "      GMB_08       0.86      0.73      0.79        26\n",
            "\n",
            "    accuracy                           0.79       149\n",
            "   macro avg       0.78      0.78      0.78       149\n",
            "weighted avg       0.80      0.79      0.79       149\n",
            "\n"
          ],
          "name": "stdout"
        }
      ]
    },
    {
      "cell_type": "code",
      "metadata": {
        "id": "JteniM-3xGIA"
      },
      "source": [
        ""
      ],
      "execution_count": null,
      "outputs": []
    }
  ]
}