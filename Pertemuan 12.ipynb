{
  "nbformat": 4,
  "nbformat_minor": 0,
  "metadata": {
    "colab": {
      "name": "Untitled4.ipynb",
      "provenance": [],
      "authorship_tag": "ABX9TyNv0ku100JUfqrmnWBQVC/K",
      "include_colab_link": true
    },
    "kernelspec": {
      "name": "python3",
      "display_name": "Python 3"
    }
  },
  "cells": [
    {
      "cell_type": "markdown",
      "metadata": {
        "id": "view-in-github",
        "colab_type": "text"
      },
      "source": [
        "<a href=\"https://colab.research.google.com/github/ArchieFauzan/Pemrograman-python-semester-3/blob/main/Pertemuan%2012.ipynb\" target=\"_parent\"><img src=\"https://colab.research.google.com/assets/colab-badge.svg\" alt=\"Open In Colab\"/></a>"
      ]
    },
    {
      "cell_type": "code",
      "metadata": {
        "id": "VW7rwEzmDC3a"
      },
      "source": [
        "import numpy as np"
      ],
      "execution_count": 36,
      "outputs": []
    },
    {
      "cell_type": "code",
      "metadata": {
        "id": "x9Tt4_OsEZ-O"
      },
      "source": [
        "#mencari nilai C1 berdasarkan x= frekuensi(f)\r\n",
        "def C1 (x) :\r\n",
        "  if x >= 400 and x <= 1500 :\r\n",
        "    return 69.55\r\n",
        "  elif x > 1500 and x <= 2000 :\r\n",
        "    return 46.3\r\n",
        "\r\n",
        "\r\n",
        "#mencari nilai C2 berdasarkan x = frekuensi(f)\r\n",
        "def C2(x):\r\n",
        "  if x >= 400 and x <= 1500 :\r\n",
        "    return 26.16\r\n",
        "  elif x > 1500 and x <= 2000 :\r\n",
        "    return 33.9\r\n",
        "\r\n",
        "#menghitung nilai a dimana x=frekuensi(f) dan y= tinggi penerima(hR)\r\n",
        "def a(x,y):\r\n",
        "  return (((1.1*np.log10(x))-0.7)*y) - ((1.56*np.log10(x))-0.8)\r\n",
        "\r\n",
        "#menghitung nilai cm yang nilainya berubah sesuai dengan tipe area dimana x= tipe area dna y= frekuensi\r\n",
        "def cm(x,y):\r\n",
        "  if x == 'urban' :\r\n",
        "    return 0\r\n",
        "  elif x == 'suburban' :\r\n",
        "    return -2*((np.log10(y/28)**2)) - 5.4\r\n",
        "  elif x == 'open' :\r\n",
        "    return (-4.78*((np.log10(y))**2))+(18.33*np.log10(y))-40.94\r\n",
        "\r\n",
        "\"\"\"\r\n",
        "mencari nilai path dB dengan :\r\n",
        "f = frekuensi (MHz)\r\n",
        "hT = tinggi antenna pemancar(30 sd 200 meter)\r\n",
        "hR = tinggi antenna pemancar (1 sd 30 meter)\r\n",
        "d = jarak antara pengirim dan penerima (km)\r\n",
        "cm = tipe area\r\n",
        "\"\"\"\r\n",
        "\r\n",
        "def pathloss(d,f,hT,hR,area):\r\n",
        "  return C1(f)+(C2(f)*np.log10(f))-(13.83*np.log10(hT))-a(f, hR)+((44.9-(6.55*np.log10(hT)))*np.log10(d))+cm(area,f)\r\n",
        "\r\n",
        "\r\n",
        "\r\n"
      ],
      "execution_count": 37,
      "outputs": []
    },
    {
      "cell_type": "code",
      "metadata": {
        "colab": {
          "base_uri": "https://localhost:8080/"
        },
        "id": "tlvLOi3Obsny",
        "outputId": "49f3ee91-21d8-4b81-9daf-70bce59df33b"
      },
      "source": [
        "print (\"MASUKKAN DATA!!! \\n\")\r\n",
        "\r\n",
        "#jarak\r\n",
        "d = float(input(\"Jarak pengirim ke penerima : \\n\"))\r\n",
        "\r\n",
        "#frekuensi\r\n",
        "f = float(input(\"Frekuensi : \\n\"))\r\n",
        "\r\n",
        "#Tinggi antenna pemancar\r\n",
        "hT = int(input(\"Tinggi antenna pemancar (30 s.d. 200 meter) : \\n\"))\r\n",
        "while hT < 30 and hT >200:\r\n",
        "  print(\"Tinggi Pemancar Tidak Sesuai Dengan Range Yang Ditentukan!!\")\r\n",
        "  hT = (input(\"Tinggi antenna pemancar (30 s.d. 200 meter) : \\n\"))\r\n",
        "\r\n",
        "#Tinggi antenna penerima\r\n",
        "hR = int(input(\"Tinggi antenna Penerima (1 s.d. 30 meter) : \\n\"))\r\n",
        "while hT < 1 and hT > 30:\r\n",
        "  print(\"Tinggi Antena Penerima Tidak Sesuai Dengan Range Yang Ditentukan!!\")\r\n",
        "  hR = (input(\"Tinggi antenna Penerima (1 s.d. 30 meter) : \\n\"))\r\n",
        "\r\n",
        "#Tipe area\r\n",
        "area = input(\"Tipe Area: \")\r\n",
        "\r\n",
        "\r\n"
      ],
      "execution_count": 38,
      "outputs": [
        {
          "output_type": "stream",
          "text": [
            "MASUKKAN DATA!!! \n",
            "\n",
            "Jarak pengirim ke penerima : \n",
            "5\n",
            "Frekuensi : \n",
            "500\n",
            "Tinggi antenna pemancar (30 s.d. 200 meter) : \n",
            "50\n",
            "Tinggi antenna Penerima (1 s.d. 30 meter) : \n",
            "10\n",
            "Tipe Area: open\n"
          ],
          "name": "stdout"
        }
      ]
    },
    {
      "cell_type": "code",
      "metadata": {
        "colab": {
          "base_uri": "https://localhost:8080/"
        },
        "id": "eO5-5agRgdJP",
        "outputId": "581dc934-eea2-4f2c-95fe-b01c806a810e"
      },
      "source": [
        "#Hasil \r\n",
        "print(\"Pathloss yang didapatkan adalah : \",pathloss(d,f,hT,hR,area),\"dB\")"
      ],
      "execution_count": 40,
      "outputs": [
        {
          "output_type": "stream",
          "text": [
            "Pathloss yang didapatkan adalah :  94.69796244671821 dB\n"
          ],
          "name": "stdout"
        }
      ]
    }
  ]
}